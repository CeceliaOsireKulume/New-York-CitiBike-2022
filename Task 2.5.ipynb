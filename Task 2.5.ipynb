{
 "cells": [
  {
   "cell_type": "markdown",
   "id": "c5955ac1-0da7-44ed-b798-e0747bb7de7f",
   "metadata": {},
   "source": [
    " ## Importing the libraries used for this Exercise."
   ]
  },
  {
   "cell_type": "code",
   "execution_count": 1,
   "id": "e2bdc3c4-75ae-478a-ba33-bf4f716edfb1",
   "metadata": {},
   "outputs": [],
   "source": [
    "import pandas as pd\n",
    "import os\n",
    "from keplergl import KeplerGl\n",
    "from pyproj import CRS \n",
    "import numpy as np\n",
    "from matplotlib import pyplot as plt"
   ]
  },
  {
   "cell_type": "markdown",
   "id": "1667472a-614e-46d3-bfc2-b858ad6b05ee",
   "metadata": {},
   "source": [
    "## Read in your data from the previous task."
   ]
  },
  {
   "cell_type": "code",
   "execution_count": 2,
   "id": "9cbaf9c1-0d06-4fce-b855-f5d5d7c8370d",
   "metadata": {},
   "outputs": [
    {
     "data": {
      "text/html": [
       "<div>\n",
       "<style scoped>\n",
       "    .dataframe tbody tr th:only-of-type {\n",
       "        vertical-align: middle;\n",
       "    }\n",
       "\n",
       "    .dataframe tbody tr th {\n",
       "        vertical-align: top;\n",
       "    }\n",
       "\n",
       "    .dataframe thead th {\n",
       "        text-align: right;\n",
       "    }\n",
       "</style>\n",
       "<table border=\"1\" class=\"dataframe\">\n",
       "  <thead>\n",
       "    <tr style=\"text-align: right;\">\n",
       "      <th></th>\n",
       "      <th>ride_id</th>\n",
       "      <th>rideable_type</th>\n",
       "      <th>started_at</th>\n",
       "      <th>ended_at</th>\n",
       "      <th>start_station_name</th>\n",
       "      <th>start_station_id</th>\n",
       "      <th>end_station_name</th>\n",
       "      <th>end_station_id</th>\n",
       "      <th>start_lat</th>\n",
       "      <th>start_lng</th>\n",
       "      <th>end_lat</th>\n",
       "      <th>end_lng</th>\n",
       "      <th>member_casual</th>\n",
       "      <th>date</th>\n",
       "      <th>AVGTemperature (°C)</th>\n",
       "      <th>_merge</th>\n",
       "      <th>bike_rides_daily</th>\n",
       "      <th>merge_2</th>\n",
       "      <th>value</th>\n",
       "    </tr>\n",
       "  </thead>\n",
       "  <tbody>\n",
       "    <tr>\n",
       "      <th>0</th>\n",
       "      <td>115C78C3039FFA89</td>\n",
       "      <td>electric_bike</td>\n",
       "      <td>2022-01-01 09:21:14</td>\n",
       "      <td>2022-01-01 09:35:46</td>\n",
       "      <td>Essex Light Rail</td>\n",
       "      <td>JC038</td>\n",
       "      <td>Essex Light Rail</td>\n",
       "      <td>JC038</td>\n",
       "      <td>40.712774</td>\n",
       "      <td>-74.036486</td>\n",
       "      <td>40.712774</td>\n",
       "      <td>-74.036486</td>\n",
       "      <td>member</td>\n",
       "      <td>2022-01-01</td>\n",
       "      <td>2.0</td>\n",
       "      <td>both</td>\n",
       "      <td>592</td>\n",
       "      <td>both</td>\n",
       "      <td>1</td>\n",
       "    </tr>\n",
       "    <tr>\n",
       "      <th>1</th>\n",
       "      <td>7FFD810CAA7A919E</td>\n",
       "      <td>classic_bike</td>\n",
       "      <td>2022-01-01 02:43:56</td>\n",
       "      <td>2022-01-01 02:43:57</td>\n",
       "      <td>12 St &amp; Sinatra Dr N</td>\n",
       "      <td>HB201</td>\n",
       "      <td>12 St &amp; Sinatra Dr N</td>\n",
       "      <td>HB201</td>\n",
       "      <td>40.750604</td>\n",
       "      <td>-74.024020</td>\n",
       "      <td>40.750604</td>\n",
       "      <td>-74.024020</td>\n",
       "      <td>member</td>\n",
       "      <td>2022-01-01</td>\n",
       "      <td>2.0</td>\n",
       "      <td>both</td>\n",
       "      <td>592</td>\n",
       "      <td>both</td>\n",
       "      <td>1</td>\n",
       "    </tr>\n",
       "    <tr>\n",
       "      <th>2</th>\n",
       "      <td>E715E8432031B72C</td>\n",
       "      <td>classic_bike</td>\n",
       "      <td>2022-01-01 02:13:33</td>\n",
       "      <td>2022-01-01 02:18:42</td>\n",
       "      <td>Essex Light Rail</td>\n",
       "      <td>JC038</td>\n",
       "      <td>Washington St</td>\n",
       "      <td>JC098</td>\n",
       "      <td>40.712774</td>\n",
       "      <td>-74.036486</td>\n",
       "      <td>40.724294</td>\n",
       "      <td>-74.035483</td>\n",
       "      <td>member</td>\n",
       "      <td>2022-01-01</td>\n",
       "      <td>2.0</td>\n",
       "      <td>both</td>\n",
       "      <td>592</td>\n",
       "      <td>both</td>\n",
       "      <td>1</td>\n",
       "    </tr>\n",
       "    <tr>\n",
       "      <th>3</th>\n",
       "      <td>BF1B7B1E1961A87B</td>\n",
       "      <td>electric_bike</td>\n",
       "      <td>2022-01-01 17:18:46</td>\n",
       "      <td>2022-01-01 18:55:25</td>\n",
       "      <td>Grand St</td>\n",
       "      <td>JC102</td>\n",
       "      <td>W 27 St &amp; 7 Ave</td>\n",
       "      <td>6247.06</td>\n",
       "      <td>40.715178</td>\n",
       "      <td>-74.037683</td>\n",
       "      <td>40.746647</td>\n",
       "      <td>-73.993915</td>\n",
       "      <td>casual</td>\n",
       "      <td>2022-01-01</td>\n",
       "      <td>2.0</td>\n",
       "      <td>both</td>\n",
       "      <td>592</td>\n",
       "      <td>both</td>\n",
       "      <td>1</td>\n",
       "    </tr>\n",
       "    <tr>\n",
       "      <th>4</th>\n",
       "      <td>4A01F0E53C6F4386</td>\n",
       "      <td>electric_bike</td>\n",
       "      <td>2022-01-01 11:23:32</td>\n",
       "      <td>2022-01-01 11:29:27</td>\n",
       "      <td>Christ Hospital</td>\n",
       "      <td>JC034</td>\n",
       "      <td>Hoboken Terminal - Hudson St &amp; Hudson Pl</td>\n",
       "      <td>HB101</td>\n",
       "      <td>40.734786</td>\n",
       "      <td>-74.050444</td>\n",
       "      <td>40.735938</td>\n",
       "      <td>-74.030305</td>\n",
       "      <td>member</td>\n",
       "      <td>2022-01-01</td>\n",
       "      <td>2.0</td>\n",
       "      <td>both</td>\n",
       "      <td>592</td>\n",
       "      <td>both</td>\n",
       "      <td>1</td>\n",
       "    </tr>\n",
       "  </tbody>\n",
       "</table>\n",
       "</div>"
      ],
      "text/plain": [
       "            ride_id  rideable_type           started_at             ended_at  \\\n",
       "0  115C78C3039FFA89  electric_bike  2022-01-01 09:21:14  2022-01-01 09:35:46   \n",
       "1  7FFD810CAA7A919E   classic_bike  2022-01-01 02:43:56  2022-01-01 02:43:57   \n",
       "2  E715E8432031B72C   classic_bike  2022-01-01 02:13:33  2022-01-01 02:18:42   \n",
       "3  BF1B7B1E1961A87B  electric_bike  2022-01-01 17:18:46  2022-01-01 18:55:25   \n",
       "4  4A01F0E53C6F4386  electric_bike  2022-01-01 11:23:32  2022-01-01 11:29:27   \n",
       "\n",
       "     start_station_name start_station_id  \\\n",
       "0      Essex Light Rail            JC038   \n",
       "1  12 St & Sinatra Dr N            HB201   \n",
       "2      Essex Light Rail            JC038   \n",
       "3              Grand St            JC102   \n",
       "4       Christ Hospital            JC034   \n",
       "\n",
       "                           end_station_name end_station_id  start_lat  \\\n",
       "0                          Essex Light Rail          JC038  40.712774   \n",
       "1                      12 St & Sinatra Dr N          HB201  40.750604   \n",
       "2                             Washington St          JC098  40.712774   \n",
       "3                           W 27 St & 7 Ave        6247.06  40.715178   \n",
       "4  Hoboken Terminal - Hudson St & Hudson Pl          HB101  40.734786   \n",
       "\n",
       "   start_lng    end_lat    end_lng member_casual        date  \\\n",
       "0 -74.036486  40.712774 -74.036486        member  2022-01-01   \n",
       "1 -74.024020  40.750604 -74.024020        member  2022-01-01   \n",
       "2 -74.036486  40.724294 -74.035483        member  2022-01-01   \n",
       "3 -74.037683  40.746647 -73.993915        casual  2022-01-01   \n",
       "4 -74.050444  40.735938 -74.030305        member  2022-01-01   \n",
       "\n",
       "   AVGTemperature (°C) _merge  bike_rides_daily merge_2  value  \n",
       "0                  2.0   both               592    both      1  \n",
       "1                  2.0   both               592    both      1  \n",
       "2                  2.0   both               592    both      1  \n",
       "3                  2.0   both               592    both      1  \n",
       "4                  2.0   both               592    both      1  "
      ]
     },
     "execution_count": 2,
     "metadata": {},
     "output_type": "execute_result"
    }
   ],
   "source": [
    "# Read the CSV file full merged\n",
    "df = pd.read_csv('Full grouped4.csv')\n",
    "\n",
    "# Display the DataFrame\n",
    "df.head()"
   ]
  },
  {
   "cell_type": "markdown",
   "id": "86f04a34-86bd-4227-b969-9939e76a19f7",
   "metadata": {},
   "source": [
    "## create a new column with the value of 1. \n",
    "## Then create a new aggregated dataframe that contains 3 columns: starting station, ending station, and the count of trips between those stations."
   ]
  },
  {
   "cell_type": "code",
   "execution_count": 3,
   "id": "98a11c7d-fb6d-4232-87d0-e10a03dbd592",
   "metadata": {},
   "outputs": [],
   "source": [
    "df['value1'] = 1\n",
    "df_group = df.groupby(['start_station_name', 'end_station_name'])['value1'].count().reset_index()"
   ]
  },
  {
   "cell_type": "code",
   "execution_count": 4,
   "id": "ebfe331e-df8c-4405-aef3-fb841fbe007a",
   "metadata": {},
   "outputs": [
    {
     "data": {
      "text/html": [
       "<div>\n",
       "<style scoped>\n",
       "    .dataframe tbody tr th:only-of-type {\n",
       "        vertical-align: middle;\n",
       "    }\n",
       "\n",
       "    .dataframe tbody tr th {\n",
       "        vertical-align: top;\n",
       "    }\n",
       "\n",
       "    .dataframe thead th {\n",
       "        text-align: right;\n",
       "    }\n",
       "</style>\n",
       "<table border=\"1\" class=\"dataframe\">\n",
       "  <thead>\n",
       "    <tr style=\"text-align: right;\">\n",
       "      <th></th>\n",
       "      <th>start_station_name</th>\n",
       "      <th>end_station_name</th>\n",
       "      <th>value1</th>\n",
       "    </tr>\n",
       "  </thead>\n",
       "  <tbody>\n",
       "    <tr>\n",
       "      <th>0</th>\n",
       "      <td>11 St &amp; Washington St</td>\n",
       "      <td>11 St &amp; Washington St</td>\n",
       "      <td>1132</td>\n",
       "    </tr>\n",
       "    <tr>\n",
       "      <th>1</th>\n",
       "      <td>11 St &amp; Washington St</td>\n",
       "      <td>12 Ave &amp; W 40 St</td>\n",
       "      <td>1</td>\n",
       "    </tr>\n",
       "    <tr>\n",
       "      <th>2</th>\n",
       "      <td>11 St &amp; Washington St</td>\n",
       "      <td>12 St &amp; Sinatra Dr N</td>\n",
       "      <td>253</td>\n",
       "    </tr>\n",
       "    <tr>\n",
       "      <th>3</th>\n",
       "      <td>11 St &amp; Washington St</td>\n",
       "      <td>14 St Ferry - 14 St &amp; Shipyard Ln</td>\n",
       "      <td>395</td>\n",
       "    </tr>\n",
       "    <tr>\n",
       "      <th>4</th>\n",
       "      <td>11 St &amp; Washington St</td>\n",
       "      <td>4 St &amp; Grand St</td>\n",
       "      <td>350</td>\n",
       "    </tr>\n",
       "  </tbody>\n",
       "</table>\n",
       "</div>"
      ],
      "text/plain": [
       "      start_station_name                   end_station_name  value1\n",
       "0  11 St & Washington St              11 St & Washington St    1132\n",
       "1  11 St & Washington St                   12 Ave & W 40 St       1\n",
       "2  11 St & Washington St               12 St & Sinatra Dr N     253\n",
       "3  11 St & Washington St  14 St Ferry - 14 St & Shipyard Ln     395\n",
       "4  11 St & Washington St                    4 St & Grand St     350"
      ]
     },
     "execution_count": 4,
     "metadata": {},
     "output_type": "execute_result"
    }
   ],
   "source": [
    "# Create a value and group by start and end station\n",
    "\n",
    "df['value1'] = 1\n",
    "df_group = df.groupby(['start_station_name', 'end_station_name'])['value1'].count().reset_index() \n",
    "\n",
    "df_group.head()"
   ]
  },
  {
   "cell_type": "code",
   "execution_count": 5,
   "id": "c0f75593-e5b8-45f9-a4e3-c7bdb07b013a",
   "metadata": {},
   "outputs": [
    {
     "name": "stdout",
     "output_type": "stream",
     "text": [
      "892281\n",
      "(895485, 20)\n"
     ]
    }
   ],
   "source": [
    "## Checking if the data is intact\n",
    "\n",
    "print(df_group['value1'].sum())\n",
    "print(df.shape)"
   ]
  },
  {
   "cell_type": "code",
   "execution_count": 6,
   "id": "d20ed67c-47d2-4da7-b525-6d0c5446f757",
   "metadata": {},
   "outputs": [],
   "source": [
    "## Renaming the value1 column\n",
    "\n",
    "df_group.rename(columns = {'value1': 'Trips'}, inplace = True)"
   ]
  },
  {
   "cell_type": "markdown",
   "id": "c635a82d-56c4-46fc-8b5b-782d63d4c29d",
   "metadata": {},
   "source": [
    "## Initialize an instance of a kepler.gl map."
   ]
  },
  {
   "cell_type": "code",
   "execution_count": 8,
   "id": "5b3679f2-fc79-4382-b390-a2f423187d9d",
   "metadata": {},
   "outputs": [
    {
     "name": "stdout",
     "output_type": "stream",
     "text": [
      "User Guide: https://docs.kepler.gl/docs/keplergl-jupyter\n"
     ]
    },
    {
     "name": "stderr",
     "output_type": "stream",
     "text": [
      "C:\\Users\\25670\\anaconda3\\envs\\venv_NewYorkCitiBikes_2022\\lib\\site-packages\\jupyter_client\\session.py:721: UserWarning: Message serialization failed with:\n",
      "Out of range float values are not JSON compliant\n",
      "Supporting this message is deprecated in jupyter-client 7, please make sure your message is JSON-compliant\n",
      "  content = self.pack(content)\n"
     ]
    },
    {
     "data": {
      "application/vnd.jupyter.widget-view+json": {
       "model_id": "6904ff7ebdee49c4b5ae29248789ec9a",
       "version_major": 2,
       "version_minor": 0
      },
      "text/plain": [
       "KeplerGl(data={'data_1':                  ride_id  rideable_type           started_at  \\\n",
       "0       115C78C3039FF…"
      ]
     },
     "execution_count": 8,
     "metadata": {},
     "output_type": "execute_result"
    }
   ],
   "source": [
    "# Create KeplerGl instance\n",
    "\n",
    "m = KeplerGl(height = 700, data={\"data_1\": df})\n",
    "\n",
    "# Display the map\n",
    "m"
   ]
  },
  {
   "cell_type": "markdown",
   "id": "d3d60c9b-f508-4d20-8da7-c473bc199096",
   "metadata": {},
   "source": [
    "## What settings I changed"
   ]
  },
  {
   "cell_type": "markdown",
   "id": "981f9b55-ef26-4708-be7a-307d87a9b9ce",
   "metadata": {},
   "source": [
    "Changing Colors for Start and End Stations:\n",
    "I selected red for start stations and yellow for end stations. This makes the start and end points easily distinguishable, especially if there’s a large set of points. Red and yellow are high-contrast colors, so they’ll stand out better against the map background and any other layers.\n",
    "\n",
    "Editing the Colors for Arcs (Source and Target):\n",
    "By using lighter colors for the arcs, I am making them easier to see and follow. Lighter colors are also less visually aggressive and make the map look cleaner, especially when dealing with dense data. This allows the arcs to remain visible without overwhelming the viewer.\n",
    "\n",
    "Reducing Stroke Range:\n",
    "Before: The arcs might have been too thick, making them appear as large lines that could obscure parts of the map or other data.\n",
    "I have reduced the stroke range to 2, the arcs become thinner but still visible. This allows for a more refined view, helping users focus on the paths and connections without the arcs dominating the map’s display. It also ensures that the map looks less cluttered, which is especially important when working with a large set of data points and arcs."
   ]
  },
  {
   "cell_type": "markdown",
   "id": "2bfbbad9-4882-4e3d-88bc-770f24ceec82",
   "metadata": {},
   "source": [
    "From my analysis, it is evident that Jersey City serves as a central hub for numerous start and stop stations, positioning it as a key location in the region's transportation network. This high concentration of stations likely contributes to a significant number of trips originating from or passing through the city. Several factors may explain why Jersey City is such a prominent location for these transit movements:\n",
    "\n",
    "One of the standout features of Jersey City is its miles of recreational spaces, particularly along the waterfront. The panoramic views of the Manhattan skyline from locations like Liberty State Park and the Jersey City Waterfront Walkway offer stunning, unobstructed vistas that make for great photo opportunities and relaxing experiences. These areas attract both locals and tourists seeking to enjoy some fresh air, take a leisurely walk, or simply admire the view of iconic NYC landmarks such as the Statue of Liberty, One World Trade Center, and the Brooklyn Bridge."
   ]
  },
  {
   "cell_type": "code",
   "execution_count": null,
   "id": "a4c53411-8385-418a-9be7-1f7cc54c92f9",
   "metadata": {},
   "outputs": [],
   "source": []
  },
  {
   "cell_type": "markdown",
   "id": "451e7bbb-12df-4f81-87a7-e0eabec48f73",
   "metadata": {},
   "source": [
    "## Create a config object and save your map with it."
   ]
  },
  {
   "cell_type": "code",
   "execution_count": 9,
   "id": "dedc5d25-0191-4295-a2f0-f69aaa5395f8",
   "metadata": {},
   "outputs": [],
   "source": [
    "config = m.config"
   ]
  },
  {
   "cell_type": "code",
   "execution_count": 11,
   "id": "b392a593-8926-4c47-8f72-8211021a24b7",
   "metadata": {},
   "outputs": [
    {
     "name": "stdout",
     "output_type": "stream",
     "text": [
      "Map saved to New York CitiBikes Bikes Trips Aggregated.html!\n"
     ]
    }
   ],
   "source": [
    "## Saving as HTML\n",
    "\n",
    "m.save_to_html(file_name='New York CitiBikes Bikes Trips Aggregated.html', read_only = False, config = config)"
   ]
  },
  {
   "cell_type": "code",
   "execution_count": 12,
   "id": "1636d2b6-b0dd-451c-b44a-4444ac5467ac",
   "metadata": {},
   "outputs": [],
   "source": [
    "import json\n",
    "with open(\"config.json\", \"w\") as outfile:\n",
    "    json.dump(config, outfile)"
   ]
  },
  {
   "cell_type": "code",
   "execution_count": 13,
   "id": "916fdf11-e02e-4eaa-9e21-de77edcea4c3",
   "metadata": {},
   "outputs": [],
   "source": [
    "## Exporting files\n",
    "\n",
    "## Saving the df as a csv\n",
    "df_group.to_csv('Full grouped5.csv', index=False)"
   ]
  },
  {
   "cell_type": "code",
   "execution_count": null,
   "id": "60ee7e2d-9e11-4fd0-8f32-b421be138ea7",
   "metadata": {},
   "outputs": [],
   "source": []
  }
 ],
 "metadata": {
  "kernelspec": {
   "display_name": "Python [conda env:venv_NewYorkCitiBikes_2022] *",
   "language": "python",
   "name": "conda-env-venv_NewYorkCitiBikes_2022-py"
  },
  "language_info": {
   "codemirror_mode": {
    "name": "ipython",
    "version": 3
   },
   "file_extension": ".py",
   "mimetype": "text/x-python",
   "name": "python",
   "nbconvert_exporter": "python",
   "pygments_lexer": "ipython3",
   "version": "3.9.21"
  }
 },
 "nbformat": 4,
 "nbformat_minor": 5
}
